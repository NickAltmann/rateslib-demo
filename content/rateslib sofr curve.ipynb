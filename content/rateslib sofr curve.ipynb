{
 "cells": [
  {
   "cell_type": "markdown",
   "id": "59b97624-c832-4d96-ada4-2c1f26d9f1ca",
   "metadata": {},
   "source": [
    "## Construct a SOFR curve and value an IRS\n",
    "\n",
    "This notebook illustrates how a SOFR curve can be calibrated against input instruments, then used to price and risk an interest rate swap.\n",
    "\n",
    "All code taken from https://rateslib.readthedocs.io/en/1.1.x/z_swpm.html\n"
   ]
  },
  {
   "cell_type": "code",
   "execution_count": 35,
   "id": "1df0a125-3436-4f35-9304-51b4cf0b86a4",
   "metadata": {},
   "outputs": [],
   "source": [
    "# Install rateslib if running on pyodide.\n",
    "import platform\n",
    "if platform.system() == 'Emscripten':\n",
    "    import micropip\n",
    "    await micropip.install('rateslib')\n",
    "    package_list = micropip.list()\n",
    "    package_list[\"rateslib\"]\n",
    "    "
   ]
  },
  {
   "cell_type": "markdown",
   "id": "b4c11275-a75b-41a7-b3e1-06ed10105876",
   "metadata": {},
   "source": [
    "We first set-up the market data inputs."
   ]
  },
  {
   "cell_type": "code",
   "execution_count": 1,
   "id": "cb214882-5398-413b-a9c7-e17c4b317117",
   "metadata": {},
   "outputs": [
    {
     "data": {
      "text/html": [
       "<div>\n",
       "<style scoped>\n",
       "    .dataframe tbody tr th:only-of-type {\n",
       "        vertical-align: middle;\n",
       "    }\n",
       "\n",
       "    .dataframe tbody tr th {\n",
       "        vertical-align: top;\n",
       "    }\n",
       "\n",
       "    .dataframe thead th {\n",
       "        text-align: right;\n",
       "    }\n",
       "</style>\n",
       "<table border=\"1\" class=\"dataframe\">\n",
       "  <thead>\n",
       "    <tr style=\"text-align: right;\">\n",
       "      <th></th>\n",
       "      <th>Term</th>\n",
       "      <th>Rate</th>\n",
       "      <th>Termination</th>\n",
       "    </tr>\n",
       "  </thead>\n",
       "  <tbody>\n",
       "    <tr>\n",
       "      <th>0</th>\n",
       "      <td>1W</td>\n",
       "      <td>5.30111</td>\n",
       "      <td>2023-08-28</td>\n",
       "    </tr>\n",
       "    <tr>\n",
       "      <th>1</th>\n",
       "      <td>2W</td>\n",
       "      <td>5.30424</td>\n",
       "      <td>2023-09-05</td>\n",
       "    </tr>\n",
       "    <tr>\n",
       "      <th>2</th>\n",
       "      <td>3W</td>\n",
       "      <td>5.30657</td>\n",
       "      <td>2023-09-11</td>\n",
       "    </tr>\n",
       "    <tr>\n",
       "      <th>3</th>\n",
       "      <td>1M</td>\n",
       "      <td>5.31100</td>\n",
       "      <td>2023-09-21</td>\n",
       "    </tr>\n",
       "    <tr>\n",
       "      <th>4</th>\n",
       "      <td>2M</td>\n",
       "      <td>5.34800</td>\n",
       "      <td>2023-10-23</td>\n",
       "    </tr>\n",
       "    <tr>\n",
       "      <th>5</th>\n",
       "      <td>3M</td>\n",
       "      <td>5.38025</td>\n",
       "      <td>2023-11-21</td>\n",
       "    </tr>\n",
       "    <tr>\n",
       "      <th>6</th>\n",
       "      <td>4M</td>\n",
       "      <td>5.40915</td>\n",
       "      <td>2023-12-21</td>\n",
       "    </tr>\n",
       "    <tr>\n",
       "      <th>7</th>\n",
       "      <td>5M</td>\n",
       "      <td>5.43078</td>\n",
       "      <td>2024-01-22</td>\n",
       "    </tr>\n",
       "    <tr>\n",
       "      <th>8</th>\n",
       "      <td>6M</td>\n",
       "      <td>5.44235</td>\n",
       "      <td>2024-02-21</td>\n",
       "    </tr>\n",
       "    <tr>\n",
       "      <th>9</th>\n",
       "      <td>7M</td>\n",
       "      <td>5.44950</td>\n",
       "      <td>2024-03-21</td>\n",
       "    </tr>\n",
       "    <tr>\n",
       "      <th>10</th>\n",
       "      <td>8M</td>\n",
       "      <td>5.44878</td>\n",
       "      <td>2024-04-22</td>\n",
       "    </tr>\n",
       "    <tr>\n",
       "      <th>11</th>\n",
       "      <td>9M</td>\n",
       "      <td>5.44100</td>\n",
       "      <td>2024-05-21</td>\n",
       "    </tr>\n",
       "    <tr>\n",
       "      <th>12</th>\n",
       "      <td>10M</td>\n",
       "      <td>5.42730</td>\n",
       "      <td>2024-06-21</td>\n",
       "    </tr>\n",
       "    <tr>\n",
       "      <th>13</th>\n",
       "      <td>11M</td>\n",
       "      <td>5.40747</td>\n",
       "      <td>2024-07-22</td>\n",
       "    </tr>\n",
       "    <tr>\n",
       "      <th>14</th>\n",
       "      <td>12M</td>\n",
       "      <td>5.38390</td>\n",
       "      <td>2024-08-21</td>\n",
       "    </tr>\n",
       "    <tr>\n",
       "      <th>15</th>\n",
       "      <td>18M</td>\n",
       "      <td>5.09195</td>\n",
       "      <td>2025-02-21</td>\n",
       "    </tr>\n",
       "    <tr>\n",
       "      <th>16</th>\n",
       "      <td>2Y</td>\n",
       "      <td>4.85785</td>\n",
       "      <td>2025-08-21</td>\n",
       "    </tr>\n",
       "    <tr>\n",
       "      <th>17</th>\n",
       "      <td>3Y</td>\n",
       "      <td>4.51845</td>\n",
       "      <td>2026-08-21</td>\n",
       "    </tr>\n",
       "    <tr>\n",
       "      <th>18</th>\n",
       "      <td>4Y</td>\n",
       "      <td>4.31705</td>\n",
       "      <td>2027-08-23</td>\n",
       "    </tr>\n",
       "  </tbody>\n",
       "</table>\n",
       "</div>"
      ],
      "text/plain": [
       "   Term     Rate Termination\n",
       "0    1W  5.30111  2023-08-28\n",
       "1    2W  5.30424  2023-09-05\n",
       "2    3W  5.30657  2023-09-11\n",
       "3    1M  5.31100  2023-09-21\n",
       "4    2M  5.34800  2023-10-23\n",
       "5    3M  5.38025  2023-11-21\n",
       "6    4M  5.40915  2023-12-21\n",
       "7    5M  5.43078  2024-01-22\n",
       "8    6M  5.44235  2024-02-21\n",
       "9    7M  5.44950  2024-03-21\n",
       "10   8M  5.44878  2024-04-22\n",
       "11   9M  5.44100  2024-05-21\n",
       "12  10M  5.42730  2024-06-21\n",
       "13  11M  5.40747  2024-07-22\n",
       "14  12M  5.38390  2024-08-21\n",
       "15  18M  5.09195  2025-02-21\n",
       "16   2Y  4.85785  2025-08-21\n",
       "17   3Y  4.51845  2026-08-21\n",
       "18   4Y  4.31705  2027-08-23"
      ]
     },
     "execution_count": 1,
     "metadata": {},
     "output_type": "execute_result"
    }
   ],
   "source": [
    "from datetime import datetime as dt\n",
    "import pandas as pd\n",
    "import rateslib as rl\n",
    "\n",
    "as_of_date = dt(2023, 8, 17)\n",
    "effective_date = rl.add_tenor(as_of_date, \"2b\", \"F\", \"nyc\")\n",
    "\n",
    "data = pd.DataFrame({\n",
    "    \"Term\": [\"1W\", \"2W\", \"3W\", \"1M\", \"2M\", \"3M\", \"4M\", \"5M\", \"6M\", \"7M\", \"8M\", \"9M\", \"10M\", \"11M\", \"12M\", \"18M\", \"2Y\", \"3Y\", \"4Y\"],\n",
    "    \"Rate\": [5.30111, 5.30424, 5.30657, 5.31100, 5.34800, 5.38025, 5.40915, 5.43078, 5.44235, 5.44950, 5.44878, 5.44100, 5.42730, 5.40747, 5.3839, 5.09195, 4.85785, 4.51845, 4.31705],\n",
    "})\n",
    "data[\"Termination\"] = [rl.add_tenor(effective_date, tenor, \"F\", \"nyc\") for tenor in data[\"Term\"]]\n",
    "data\n"
   ]
  },
  {
   "cell_type": "markdown",
   "id": "132c2b29-ef68-48b2-a19c-8d8555aecbcc",
   "metadata": {},
   "source": [
    "A visual representation of the inputs."
   ]
  },
  {
   "cell_type": "code",
   "execution_count": 20,
   "id": "e0f0f53c-3047-4f1c-a489-a78d41ad8acc",
   "metadata": {},
   "outputs": [
    {
     "data": {
      "image/png": "[encoded data removed]",
      "text/plain": [
       "<Figure size 640x480 with 1 Axes>"
      ]
     },
     "metadata": {},
     "output_type": "display_data"
    }
   ],
   "source": [
    "pd.Series(data.Rate.values, data.Termination).plot(style='+-');\n"
   ]
  },
  {
   "cell_type": "markdown",
   "id": "9139df3f-31ff-4221-b06f-30e2477e0ea5",
   "metadata": {},
   "source": [
    "### Curve structure\n",
    "\n",
    "We create a curve with node dates matching the inputs, give the interpolation information."
   ]
  },
  {
   "cell_type": "code",
   "execution_count": 21,
   "id": "b6bd1a71-dff7-4a15-a17b-54ed45351008",
   "metadata": {},
   "outputs": [
    {
     "data": {
      "text/plain": [
       "<rateslib.curves.Curve at 0x22bf700fe30>"
      ]
     },
     "execution_count": 21,
     "metadata": {},
     "output_type": "execute_result"
    }
   ],
   "source": [
    "sofr_curve = rl.Curve(\n",
    "    id=\"sofr_curve\",\n",
    "    convention=\"Act360\",\n",
    "    calendar=\"nyc\",\n",
    "    modifier=\"MF\",\n",
    "    interpolation=\"log_linear\",\n",
    "    nodes={\n",
    "        **{as_of_date: 1.0},  # <- this is today's DF,\n",
    "        **{term_dt.to_pydatetime(): 1.0 for term_dt in data[\"Termination\"]},\n",
    "    }\n",
    ")\n",
    "sofr_curve\n"
   ]
  },
  {
   "cell_type": "markdown",
   "id": "d64d3dfe-2c00-4943-80a5-d2dc86663b5e",
   "metadata": {},
   "source": [
    "### Create a Solver\n",
    "\n",
    "Calibrate the curve to the input instruments using a Solver."
   ]
  },
  {
   "cell_type": "code",
   "execution_count": 29,
   "id": "1b8c010f-009c-4b20-906f-042820390093",
   "metadata": {},
   "outputs": [
    {
     "name": "stdout",
     "output_type": "stream",
     "text": [
      "SUCCESS: `func_tol` reached after 5 iterations (levenberg_marquardt) , `f_val`: 3.116744256634176e-17, `time`: 0.0655s\n"
     ]
    }
   ],
   "source": [
    "instruments = [\n",
    "    rl.IRS(termination=term.to_pydatetime(), \n",
    "        effective=effective_date,\n",
    "        spec=\"usd_irs\",\n",
    "        curves=\"sofr_curve\"\n",
    "       ) for term in data[\"Termination\"]\n",
    "]\n",
    "\n",
    "solver = rl.Solver(\n",
    "    curves=[sofr_curve],\n",
    "    instruments=instruments,\n",
    "    s=data[\"Rate\"],\n",
    "    instrument_labels=data[\"Term\"],\n",
    "    id=\"us_rates\",\n",
    ")"
   ]
  },
  {
   "cell_type": "markdown",
   "id": "b06dc8ec-793e-42d6-a919-f57f92ef61a6",
   "metadata": {},
   "source": [
    "### Curve results\n",
    "\n",
    "Can now read the discount factors from the calibrated curve."
   ]
  },
  {
   "cell_type": "code",
   "execution_count": 34,
   "id": "580bcf24-378c-4d90-be17-d6e6f37efc8f",
   "metadata": {},
   "outputs": [
    {
     "data": {
      "text/html": [
       "<div>\n",
       "<style scoped>\n",
       "    .dataframe tbody tr th:only-of-type {\n",
       "        vertical-align: middle;\n",
       "    }\n",
       "\n",
       "    .dataframe tbody tr th {\n",
       "        vertical-align: top;\n",
       "    }\n",
       "\n",
       "    .dataframe thead th {\n",
       "        text-align: right;\n",
       "    }\n",
       "</style>\n",
       "<table border=\"1\" class=\"dataframe\">\n",
       "  <thead>\n",
       "    <tr style=\"text-align: right;\">\n",
       "      <th></th>\n",
       "      <th>Term</th>\n",
       "      <th>Rate</th>\n",
       "      <th>Termination</th>\n",
       "      <th>DF</th>\n",
       "    </tr>\n",
       "  </thead>\n",
       "  <tbody>\n",
       "    <tr>\n",
       "      <th>0</th>\n",
       "      <td>1W</td>\n",
       "      <td>5.30111</td>\n",
       "      <td>2023-08-28</td>\n",
       "      <td>0.998382</td>\n",
       "    </tr>\n",
       "    <tr>\n",
       "      <th>1</th>\n",
       "      <td>2W</td>\n",
       "      <td>5.30424</td>\n",
       "      <td>2023-09-05</td>\n",
       "      <td>0.997208</td>\n",
       "    </tr>\n",
       "    <tr>\n",
       "      <th>2</th>\n",
       "      <td>3W</td>\n",
       "      <td>5.30657</td>\n",
       "      <td>2023-09-11</td>\n",
       "      <td>0.996327</td>\n",
       "    </tr>\n",
       "    <tr>\n",
       "      <th>3</th>\n",
       "      <td>1M</td>\n",
       "      <td>5.31100</td>\n",
       "      <td>2023-09-21</td>\n",
       "      <td>0.994862</td>\n",
       "    </tr>\n",
       "    <tr>\n",
       "      <th>4</th>\n",
       "      <td>2M</td>\n",
       "      <td>5.34800</td>\n",
       "      <td>2023-10-23</td>\n",
       "      <td>0.990145</td>\n",
       "    </tr>\n",
       "    <tr>\n",
       "      <th>5</th>\n",
       "      <td>3M</td>\n",
       "      <td>5.38025</td>\n",
       "      <td>2023-11-21</td>\n",
       "      <td>0.985856</td>\n",
       "    </tr>\n",
       "    <tr>\n",
       "      <th>6</th>\n",
       "      <td>4M</td>\n",
       "      <td>5.40915</td>\n",
       "      <td>2023-12-21</td>\n",
       "      <td>0.981421</td>\n",
       "    </tr>\n",
       "    <tr>\n",
       "      <th>7</th>\n",
       "      <td>5M</td>\n",
       "      <td>5.43078</td>\n",
       "      <td>2024-01-22</td>\n",
       "      <td>0.976721</td>\n",
       "    </tr>\n",
       "    <tr>\n",
       "      <th>8</th>\n",
       "      <td>6M</td>\n",
       "      <td>5.44235</td>\n",
       "      <td>2024-02-21</td>\n",
       "      <td>0.972364</td>\n",
       "    </tr>\n",
       "    <tr>\n",
       "      <th>9</th>\n",
       "      <td>7M</td>\n",
       "      <td>5.44950</td>\n",
       "      <td>2024-03-21</td>\n",
       "      <td>0.968194</td>\n",
       "    </tr>\n",
       "    <tr>\n",
       "      <th>10</th>\n",
       "      <td>8M</td>\n",
       "      <td>5.44878</td>\n",
       "      <td>2024-04-22</td>\n",
       "      <td>0.963676</td>\n",
       "    </tr>\n",
       "    <tr>\n",
       "      <th>11</th>\n",
       "      <td>9M</td>\n",
       "      <td>5.44100</td>\n",
       "      <td>2024-05-21</td>\n",
       "      <td>0.959670</td>\n",
       "    </tr>\n",
       "    <tr>\n",
       "      <th>12</th>\n",
       "      <td>10M</td>\n",
       "      <td>5.42730</td>\n",
       "      <td>2024-06-21</td>\n",
       "      <td>0.955477</td>\n",
       "    </tr>\n",
       "    <tr>\n",
       "      <th>13</th>\n",
       "      <td>11M</td>\n",
       "      <td>5.40747</td>\n",
       "      <td>2024-07-22</td>\n",
       "      <td>0.951395</td>\n",
       "    </tr>\n",
       "    <tr>\n",
       "      <th>14</th>\n",
       "      <td>12M</td>\n",
       "      <td>5.38390</td>\n",
       "      <td>2024-08-21</td>\n",
       "      <td>0.947546</td>\n",
       "    </tr>\n",
       "    <tr>\n",
       "      <th>15</th>\n",
       "      <td>18M</td>\n",
       "      <td>5.09195</td>\n",
       "      <td>2025-02-21</td>\n",
       "      <td>0.926160</td>\n",
       "    </tr>\n",
       "    <tr>\n",
       "      <th>16</th>\n",
       "      <td>2Y</td>\n",
       "      <td>4.85785</td>\n",
       "      <td>2025-08-21</td>\n",
       "      <td>0.907898</td>\n",
       "    </tr>\n",
       "    <tr>\n",
       "      <th>17</th>\n",
       "      <td>3Y</td>\n",
       "      <td>4.51845</td>\n",
       "      <td>2026-08-21</td>\n",
       "      <td>0.874241</td>\n",
       "    </tr>\n",
       "    <tr>\n",
       "      <th>18</th>\n",
       "      <td>4Y</td>\n",
       "      <td>4.31705</td>\n",
       "      <td>2027-08-23</td>\n",
       "      <td>0.842731</td>\n",
       "    </tr>\n",
       "  </tbody>\n",
       "</table>\n",
       "</div>"
      ],
      "text/plain": [
       "   Term     Rate Termination        DF\n",
       "0    1W  5.30111  2023-08-28  0.998382\n",
       "1    2W  5.30424  2023-09-05  0.997208\n",
       "2    3W  5.30657  2023-09-11  0.996327\n",
       "3    1M  5.31100  2023-09-21  0.994862\n",
       "4    2M  5.34800  2023-10-23  0.990145\n",
       "5    3M  5.38025  2023-11-21  0.985856\n",
       "6    4M  5.40915  2023-12-21  0.981421\n",
       "7    5M  5.43078  2024-01-22  0.976721\n",
       "8    6M  5.44235  2024-02-21  0.972364\n",
       "9    7M  5.44950  2024-03-21  0.968194\n",
       "10   8M  5.44878  2024-04-22  0.963676\n",
       "11   9M  5.44100  2024-05-21  0.959670\n",
       "12  10M  5.42730  2024-06-21  0.955477\n",
       "13  11M  5.40747  2024-07-22  0.951395\n",
       "14  12M  5.38390  2024-08-21  0.947546\n",
       "15  18M  5.09195  2025-02-21  0.926160\n",
       "16   2Y  4.85785  2025-08-21  0.907898\n",
       "17   3Y  4.51845  2026-08-21  0.874241\n",
       "18   4Y  4.31705  2027-08-23  0.842731"
      ]
     },
     "execution_count": 34,
     "metadata": {},
     "output_type": "execute_result"
    }
   ],
   "source": [
    "data[\"DF\"] = [float(sofr_curve[term]) for term in data[\"Termination\"]]\n",
    "data"
   ]
  },
  {
   "cell_type": "markdown",
   "id": "ecaa0445-9211-4810-94e1-2123ad914064",
   "metadata": {},
   "source": [
    "### Pricing an Instrument\n",
    "\n",
    "We create an Interest Rate Swap to price."
   ]
  },
  {
   "cell_type": "code",
   "execution_count": 7,
   "id": "7fdde96a-2e65-4423-b7fa-fb79199706f4",
   "metadata": {},
   "outputs": [],
   "source": [
    "irs = rl.IRS(\n",
    "    effective=dt(2023, 11, 21),\n",
    "    termination=dt(2025, 2, 21),\n",
    "    notional=-100e6,\n",
    "    fixed_rate=5.40,\n",
    "    curves=\"sofr_curve\",\n",
    "    spec=\"usd_irs\",\n",
    ")\n"
   ]
  },
  {
   "cell_type": "markdown",
   "id": "c9fb1e26-5b7d-4111-811e-461d03ad1888",
   "metadata": {},
   "source": [
    "Then use the solver to price it."
   ]
  },
  {
   "cell_type": "code",
   "execution_count": 8,
   "id": "c428f696-0a6a-4a2a-9646-67484608430c",
   "metadata": {},
   "outputs": [
    {
     "data": {
      "text/plain": [
       "456622.09860395174"
      ]
     },
     "execution_count": 8,
     "metadata": {},
     "output_type": "execute_result"
    }
   ],
   "source": [
    "pv = irs.npv(solver=solver)\n",
    "pv.real"
   ]
  },
  {
   "cell_type": "markdown",
   "id": "ae18df01-a8db-4183-9940-a24b2fa558d8",
   "metadata": {},
   "source": [
    "### Delta\n",
    "\n",
    "The solver can now be used to get delta senstivites,"
   ]
  },
  {
   "cell_type": "code",
   "execution_count": 9,
   "id": "9a6091c0-ea89-4170-b66b-37d2a0b0a586",
   "metadata": {},
   "outputs": [
    {
     "data": {
      "text/html": [
       "<div>\n",
       "<style scoped>\n",
       "    .dataframe tbody tr th:only-of-type {\n",
       "        vertical-align: middle;\n",
       "    }\n",
       "\n",
       "    .dataframe tbody tr th {\n",
       "        vertical-align: top;\n",
       "    }\n",
       "\n",
       "    .dataframe thead tr th {\n",
       "        text-align: left;\n",
       "    }\n",
       "\n",
       "    .dataframe thead tr:last-of-type th {\n",
       "        text-align: right;\n",
       "    }\n",
       "</style>\n",
       "<table border=\"1\" class=\"dataframe\">\n",
       "  <thead>\n",
       "    <tr>\n",
       "      <th></th>\n",
       "      <th></th>\n",
       "      <th>local_ccy</th>\n",
       "      <th>usd</th>\n",
       "    </tr>\n",
       "    <tr>\n",
       "      <th></th>\n",
       "      <th></th>\n",
       "      <th>display_ccy</th>\n",
       "      <th>usd</th>\n",
       "    </tr>\n",
       "    <tr>\n",
       "      <th>type</th>\n",
       "      <th>solver</th>\n",
       "      <th>label</th>\n",
       "      <th></th>\n",
       "    </tr>\n",
       "  </thead>\n",
       "  <tbody>\n",
       "    <tr>\n",
       "      <th rowspan=\"19\" valign=\"top\">instruments</th>\n",
       "      <th rowspan=\"19\" valign=\"top\">us_rates</th>\n",
       "      <th>1W</th>\n",
       "      <td>-5.068355e-01</td>\n",
       "    </tr>\n",
       "    <tr>\n",
       "      <th>2W</th>\n",
       "      <td>4.448341e-14</td>\n",
       "    </tr>\n",
       "    <tr>\n",
       "      <th>3W</th>\n",
       "      <td>3.262071e-13</td>\n",
       "    </tr>\n",
       "    <tr>\n",
       "      <th>1M</th>\n",
       "      <td>-6.819837e-13</td>\n",
       "    </tr>\n",
       "    <tr>\n",
       "      <th>2M</th>\n",
       "      <td>6.608491e-13</td>\n",
       "    </tr>\n",
       "    <tr>\n",
       "      <th>3M</th>\n",
       "      <td>2.484503e+03</td>\n",
       "    </tr>\n",
       "    <tr>\n",
       "      <th>4M</th>\n",
       "      <td>2.835389e-13</td>\n",
       "    </tr>\n",
       "    <tr>\n",
       "      <th>5M</th>\n",
       "      <td>-1.242682e-12</td>\n",
       "    </tr>\n",
       "    <tr>\n",
       "      <th>6M</th>\n",
       "      <td>6.003902e+01</td>\n",
       "    </tr>\n",
       "    <tr>\n",
       "      <th>7M</th>\n",
       "      <td>-6.609346e-01</td>\n",
       "    </tr>\n",
       "    <tr>\n",
       "      <th>8M</th>\n",
       "      <td>9.208455e-13</td>\n",
       "    </tr>\n",
       "    <tr>\n",
       "      <th>9M</th>\n",
       "      <td>-2.533433e-12</td>\n",
       "    </tr>\n",
       "    <tr>\n",
       "      <th>10M</th>\n",
       "      <td>-1.728135e-12</td>\n",
       "    </tr>\n",
       "    <tr>\n",
       "      <th>11M</th>\n",
       "      <td>-1.077498e-12</td>\n",
       "    </tr>\n",
       "    <tr>\n",
       "      <th>12M</th>\n",
       "      <td>3.042953e-02</td>\n",
       "    </tr>\n",
       "    <tr>\n",
       "      <th>18M</th>\n",
       "      <td>-1.442208e+04</td>\n",
       "    </tr>\n",
       "    <tr>\n",
       "      <th>2Y</th>\n",
       "      <td>-1.265049e+00</td>\n",
       "    </tr>\n",
       "    <tr>\n",
       "      <th>3Y</th>\n",
       "      <td>1.130177e-04</td>\n",
       "    </tr>\n",
       "    <tr>\n",
       "      <th>4Y</th>\n",
       "      <td>-1.172195e-08</td>\n",
       "    </tr>\n",
       "  </tbody>\n",
       "</table>\n",
       "</div>"
      ],
      "text/plain": [
       "local_ccy                            usd\n",
       "display_ccy                          usd\n",
       "type        solver   label              \n",
       "instruments us_rates 1W    -5.068355e-01\n",
       "                     2W     4.448341e-14\n",
       "                     3W     3.262071e-13\n",
       "                     1M    -6.819837e-13\n",
       "                     2M     6.608491e-13\n",
       "                     3M     2.484503e+03\n",
       "                     4M     2.835389e-13\n",
       "                     5M    -1.242682e-12\n",
       "                     6M     6.003902e+01\n",
       "                     7M    -6.609346e-01\n",
       "                     8M     9.208455e-13\n",
       "                     9M    -2.533433e-12\n",
       "                     10M   -1.728135e-12\n",
       "                     11M   -1.077498e-12\n",
       "                     12M    3.042953e-02\n",
       "                     18M   -1.442208e+04\n",
       "                     2Y    -1.265049e+00\n",
       "                     3Y     1.130177e-04\n",
       "                     4Y    -1.172195e-08"
      ]
     },
     "execution_count": 9,
     "metadata": {},
     "output_type": "execute_result"
    }
   ],
   "source": [
    "delta = irs.delta(solver=solver)\n",
    "delta"
   ]
  },
  {
   "cell_type": "markdown",
   "id": "8f6e7b43-bdd1-4918-968e-f126306f3ffe",
   "metadata": {},
   "source": [
    "Show the strip delta graphically."
   ]
  },
  {
   "cell_type": "code",
   "execution_count": 10,
   "id": "ef0d5e2b-3a47-4210-b210-a60f7c0156ea",
   "metadata": {},
   "outputs": [
    {
     "data": {
      "image/png": "[encoded data removed]",
      "text/plain": [
       "<Figure size 640x480 with 1 Axes>"
      ]
     },
     "metadata": {},
     "output_type": "display_data"
    }
   ],
   "source": [
    "ccy_delta = delta[\"usd\"][\"usd\"]\n",
    "pd.Series(ccy_delta.values,\n",
    "          ccy_delta.index.get_level_values(\"label\")).plot.bar();"
   ]
  },
  {
   "cell_type": "code",
   "execution_count": 11,
   "id": "40de5a80-d560-4531-81d1-71bb50f85512",
   "metadata": {},
   "outputs": [
    {
     "data": {
      "text/plain": [
       "-11879.936804971858"
      ]
     },
     "execution_count": 11,
     "metadata": {},
     "output_type": "execute_result"
    }
   ],
   "source": [
    "float(ccy_delta.sum())\n"
   ]
  },
  {
   "cell_type": "code",
   "execution_count": 12,
   "id": "56dd1200-b576-4c0d-9ddc-cf509093c056",
   "metadata": {},
   "outputs": [
    {
     "data": {
      "text/plain": [
       "-11896.00857729232"
      ]
     },
     "execution_count": 12,
     "metadata": {},
     "output_type": "execute_result"
    }
   ],
   "source": [
    "irs.analytic_delta(curve=sofr_curve).real\n"
   ]
  },
  {
   "cell_type": "markdown",
   "id": "3f1cb833-1040-4989-b857-374eaa5bb58c",
   "metadata": {},
   "source": [
    "### Gamma\n",
    "\n",
    "The solver can also be used to get cross-gamma sensitivities."
   ]
  },
  {
   "cell_type": "code",
   "execution_count": 13,
   "id": "2b95e9a6-5f54-4abe-9e3e-a63d36e81f75",
   "metadata": {},
   "outputs": [
    {
     "data": {
      "text/plain": [
       "np.float64(3.176665278863453)"
      ]
     },
     "execution_count": 13,
     "metadata": {},
     "output_type": "execute_result"
    }
   ],
   "source": [
    "irs.gamma(solver=solver).sum().sum()\n"
   ]
  },
  {
   "cell_type": "markdown",
   "id": "273d7003-2599-455a-84cc-1febc307dbd1",
   "metadata": {},
   "source": [
    "### Cashflows\n",
    "\n",
    "Show a summary of cashflows to be paid, or get a more detailed breakdown of cashflow information."
   ]
  },
  {
   "cell_type": "code",
   "execution_count": 14,
   "id": "a551b198-4e15-4c84-abbc-14da068963c7",
   "metadata": {},
   "outputs": [
    {
     "data": {
      "text/html": [
       "<div>\n",
       "<style scoped>\n",
       "    .dataframe tbody tr th:only-of-type {\n",
       "        vertical-align: middle;\n",
       "    }\n",
       "\n",
       "    .dataframe tbody tr th {\n",
       "        vertical-align: top;\n",
       "    }\n",
       "\n",
       "    .dataframe thead tr th {\n",
       "        text-align: left;\n",
       "    }\n",
       "\n",
       "    .dataframe thead tr:last-of-type th {\n",
       "        text-align: right;\n",
       "    }\n",
       "</style>\n",
       "<table border=\"1\" class=\"dataframe\">\n",
       "  <thead>\n",
       "    <tr>\n",
       "      <th>local_ccy</th>\n",
       "      <th>USD</th>\n",
       "    </tr>\n",
       "    <tr>\n",
       "      <th>collateral_ccy</th>\n",
       "      <th>NaN</th>\n",
       "    </tr>\n",
       "    <tr>\n",
       "      <th>payment</th>\n",
       "      <th></th>\n",
       "    </tr>\n",
       "  </thead>\n",
       "  <tbody>\n",
       "    <tr>\n",
       "      <th>2024-02-23</th>\n",
       "      <td>-7613.744059</td>\n",
       "    </tr>\n",
       "    <tr>\n",
       "      <th>2025-02-25</th>\n",
       "      <td>501239.067003</td>\n",
       "    </tr>\n",
       "  </tbody>\n",
       "</table>\n",
       "</div>"
      ],
      "text/plain": [
       "local_ccy                 USD\n",
       "collateral_ccy            NaN\n",
       "payment                      \n",
       "2024-02-23       -7613.744059\n",
       "2025-02-25      501239.067003"
      ]
     },
     "execution_count": 14,
     "metadata": {},
     "output_type": "execute_result"
    }
   ],
   "source": [
    "irs.cashflows_table(solver=solver)\n"
   ]
  },
  {
   "cell_type": "code",
   "execution_count": 15,
   "id": "7bc73206-3323-4323-b633-7e66150c38cc",
   "metadata": {},
   "outputs": [
    {
     "data": {
      "text/html": [
       "<div>\n",
       "<style scoped>\n",
       "    .dataframe tbody tr th:only-of-type {\n",
       "        vertical-align: middle;\n",
       "    }\n",
       "\n",
       "    .dataframe tbody tr th {\n",
       "        vertical-align: top;\n",
       "    }\n",
       "\n",
       "    .dataframe thead th {\n",
       "        text-align: right;\n",
       "    }\n",
       "</style>\n",
       "<table border=\"1\" class=\"dataframe\">\n",
       "  <thead>\n",
       "    <tr style=\"text-align: right;\">\n",
       "      <th></th>\n",
       "      <th></th>\n",
       "      <th>Type</th>\n",
       "      <th>Period</th>\n",
       "      <th>Ccy</th>\n",
       "      <th>Acc Start</th>\n",
       "      <th>Acc End</th>\n",
       "      <th>Payment</th>\n",
       "      <th>Convention</th>\n",
       "      <th>DCF</th>\n",
       "      <th>Notional</th>\n",
       "      <th>DF</th>\n",
       "      <th>Collateral</th>\n",
       "      <th>Rate</th>\n",
       "      <th>Spread</th>\n",
       "      <th>Cashflow</th>\n",
       "      <th>NPV</th>\n",
       "      <th>FX Rate</th>\n",
       "      <th>NPV Ccy</th>\n",
       "    </tr>\n",
       "  </thead>\n",
       "  <tbody>\n",
       "    <tr>\n",
       "      <th rowspan=\"2\" valign=\"top\">leg1</th>\n",
       "      <th>0</th>\n",
       "      <td>FixedPeriod</td>\n",
       "      <td>Stub</td>\n",
       "      <td>USD</td>\n",
       "      <td>2023-11-21</td>\n",
       "      <td>2024-02-21</td>\n",
       "      <td>2024-02-23</td>\n",
       "      <td>act360</td>\n",
       "      <td>0.255556</td>\n",
       "      <td>-100000000.0</td>\n",
       "      <td>0.972076</td>\n",
       "      <td>None</td>\n",
       "      <td>5.400000</td>\n",
       "      <td>NaN</td>\n",
       "      <td>1.380000e+06</td>\n",
       "      <td>1.341464e+06</td>\n",
       "      <td>1.0</td>\n",
       "      <td>1.341464e+06</td>\n",
       "    </tr>\n",
       "    <tr>\n",
       "      <th>1</th>\n",
       "      <td>FixedPeriod</td>\n",
       "      <td>Regular</td>\n",
       "      <td>USD</td>\n",
       "      <td>2024-02-21</td>\n",
       "      <td>2025-02-21</td>\n",
       "      <td>2025-02-25</td>\n",
       "      <td>act360</td>\n",
       "      <td>1.016667</td>\n",
       "      <td>-100000000.0</td>\n",
       "      <td>0.925752</td>\n",
       "      <td>None</td>\n",
       "      <td>5.400000</td>\n",
       "      <td>NaN</td>\n",
       "      <td>5.490000e+06</td>\n",
       "      <td>5.082380e+06</td>\n",
       "      <td>1.0</td>\n",
       "      <td>5.082380e+06</td>\n",
       "    </tr>\n",
       "    <tr>\n",
       "      <th rowspan=\"2\" valign=\"top\">leg2</th>\n",
       "      <th>0</th>\n",
       "      <td>FloatPeriod</td>\n",
       "      <td>Stub</td>\n",
       "      <td>USD</td>\n",
       "      <td>2023-11-21</td>\n",
       "      <td>2024-02-21</td>\n",
       "      <td>2024-02-23</td>\n",
       "      <td>act360</td>\n",
       "      <td>0.255556</td>\n",
       "      <td>100000000.0</td>\n",
       "      <td>0.972076</td>\n",
       "      <td>None</td>\n",
       "      <td>5.429793</td>\n",
       "      <td>0.0</td>\n",
       "      <td>-1.387614e+06</td>\n",
       "      <td>-1.348865e+06</td>\n",
       "      <td>1.0</td>\n",
       "      <td>-1.348865e+06</td>\n",
       "    </tr>\n",
       "    <tr>\n",
       "      <th>1</th>\n",
       "      <td>FloatPeriod</td>\n",
       "      <td>Regular</td>\n",
       "      <td>USD</td>\n",
       "      <td>2024-02-21</td>\n",
       "      <td>2025-02-21</td>\n",
       "      <td>2025-02-25</td>\n",
       "      <td>act360</td>\n",
       "      <td>1.016667</td>\n",
       "      <td>100000000.0</td>\n",
       "      <td>0.925752</td>\n",
       "      <td>None</td>\n",
       "      <td>4.906978</td>\n",
       "      <td>0.0</td>\n",
       "      <td>-4.988761e+06</td>\n",
       "      <td>-4.618357e+06</td>\n",
       "      <td>1.0</td>\n",
       "      <td>-4.618357e+06</td>\n",
       "    </tr>\n",
       "  </tbody>\n",
       "</table>\n",
       "</div>"
      ],
      "text/plain": [
       "               Type   Period  Ccy  Acc Start    Acc End    Payment Convention  \\\n",
       "leg1 0  FixedPeriod     Stub  USD 2023-11-21 2024-02-21 2024-02-23     act360   \n",
       "     1  FixedPeriod  Regular  USD 2024-02-21 2025-02-21 2025-02-25     act360   \n",
       "leg2 0  FloatPeriod     Stub  USD 2023-11-21 2024-02-21 2024-02-23     act360   \n",
       "     1  FloatPeriod  Regular  USD 2024-02-21 2025-02-21 2025-02-25     act360   \n",
       "\n",
       "             DCF     Notional        DF Collateral      Rate  Spread  \\\n",
       "leg1 0  0.255556 -100000000.0  0.972076       None  5.400000     NaN   \n",
       "     1  1.016667 -100000000.0  0.925752       None  5.400000     NaN   \n",
       "leg2 0  0.255556  100000000.0  0.972076       None  5.429793     0.0   \n",
       "     1  1.016667  100000000.0  0.925752       None  4.906978     0.0   \n",
       "\n",
       "            Cashflow           NPV  FX Rate       NPV Ccy  \n",
       "leg1 0  1.380000e+06  1.341464e+06      1.0  1.341464e+06  \n",
       "     1  5.490000e+06  5.082380e+06      1.0  5.082380e+06  \n",
       "leg2 0 -1.387614e+06 -1.348865e+06      1.0 -1.348865e+06  \n",
       "     1 -4.988761e+06 -4.618357e+06      1.0 -4.618357e+06  "
      ]
     },
     "execution_count": 15,
     "metadata": {},
     "output_type": "execute_result"
    }
   ],
   "source": [
    "irs.cashflows(solver=solver)\n"
   ]
  }
 ],
 "metadata": {
  "kernelspec": {
   "display_name": "Python 3 (ipykernel)",
   "language": "python",
   "name": "python3"
  },
  "language_info": {
   "codemirror_mode": {
    "name": "ipython",
    "version": 3
   },
   "file_extension": ".py",
   "mimetype": "text/x-python",
   "name": "python",
   "nbconvert_exporter": "python",
   "pygments_lexer": "ipython3",
   "version": "3.12.7"
  }
 },
 "nbformat": 4,
 "nbformat_minor": 5
}
