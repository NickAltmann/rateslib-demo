{
 "cells": [
  {
   "cell_type": "markdown",
   "id": "59b97624-c832-4d96-ada4-2c1f26d9f1ca",
   "metadata": {},
   "source": [
    "## Construct a SOFR curve and value an IRS\n",
    "\n",
    "This notebook illustrates how rateslib can be used to calibrate a SOFR curve against input instruments, then used to price and risk an interest rate swap.\n",
    "\n",
    "All code taken from https://rateslib.readthedocs.io/en/1.1.x/z_swpm.html\n"
   ]
  },
  {
   "cell_type": "code",
   "execution_count": null,
   "id": "1df0a125-3436-4f35-9304-51b4cf0b86a4",
   "metadata": {},
   "outputs": [],
   "source": [
    "import platform\n",
    "import warnings\n",
    "\n",
    "if platform.system() == 'Emscripten':\n",
    "    # Install rateslib if running on jupyterlite.\n",
    "    import micropip\n",
    "    await micropip.install('rateslib')\n",
    "    package_list = micropip.list()\n",
    "    print(f\"Loaded version {package_list[\"rateslib\"].version} of rateslib.\")\n",
    "\n",
    "with warnings.catch_warnings(action=\"ignore\"):\n",
    "    from datetime import datetime as dt\n",
    "    import pandas as pd\n",
    "    import rateslib as rl\n",
    "    "
   ]
  },
  {
   "cell_type": "markdown",
   "id": "b4c11275-a75b-41a7-b3e1-06ed10105876",
   "metadata": {},
   "source": [
    "### Curve data\n",
    "\n",
    "First set-up the market data inputs."
   ]
  },
  {
   "cell_type": "code",
   "execution_count": null,
   "id": "cb214882-5398-413b-a9c7-e17c4b317117",
   "metadata": {},
   "outputs": [],
   "source": [
    "from datetime import datetime as dt\n",
    "import pandas as pd\n",
    "import rateslib as rl\n",
    "\n",
    "as_of_date = dt(2023, 8, 17)\n",
    "effective_date = rl.add_tenor(as_of_date, \"2b\", \"F\", \"nyc\")\n",
    "\n",
    "data = pd.DataFrame({\n",
    "    \"Term\": [\"1W\", \"2W\", \"3W\", \"1M\", \"2M\", \"3M\", \"4M\", \"5M\", \"6M\", \"7M\", \"8M\", \"9M\", \"10M\", \"11M\", \"12M\", \"18M\", \"2Y\", \"3Y\", \"4Y\"],\n",
    "    \"Rate\": [5.30111, 5.30424, 5.30657, 5.31100, 5.34800, 5.38025, 5.40915, 5.43078, 5.44235, 5.44950, 5.44878, 5.44100, 5.42730, 5.40747, 5.3839, 5.09195, 4.85785, 4.51845, 4.31705],\n",
    "})\n",
    "data[\"Termination\"] = [rl.add_tenor(effective_date, tenor, \"F\", \"nyc\") for tenor in data[\"Term\"]]\n",
    "data\n"
   ]
  },
  {
   "cell_type": "markdown",
   "id": "132c2b29-ef68-48b2-a19c-8d8555aecbcc",
   "metadata": {},
   "source": [
    "A visual representation of the inputs."
   ]
  },
  {
   "cell_type": "code",
   "execution_count": null,
   "id": "e0f0f53c-3047-4f1c-a489-a78d41ad8acc",
   "metadata": {},
   "outputs": [],
   "source": [
    "pd.Series(data.Rate.values, data.Termination).plot(style='+-');\n"
   ]
  },
  {
   "cell_type": "markdown",
   "id": "9139df3f-31ff-4221-b06f-30e2477e0ea5",
   "metadata": {},
   "source": [
    "### Curve structure\n",
    "\n",
    "Create a curve with node dates matching the inputs, and give the interpolation information."
   ]
  },
  {
   "cell_type": "code",
   "execution_count": null,
   "id": "b6bd1a71-dff7-4a15-a17b-54ed45351008",
   "metadata": {},
   "outputs": [],
   "source": [
    "sofr_curve = rl.Curve(\n",
    "    id=\"sofr_curve\",\n",
    "    convention=\"Act360\",\n",
    "    calendar=\"nyc\",\n",
    "    modifier=\"MF\",\n",
    "    interpolation=\"log_linear\",\n",
    "    nodes={\n",
    "        **{as_of_date: 1.0},  # <- this is today's DF,\n",
    "        **{term_dt.to_pydatetime(): 1.0 for term_dt in data[\"Termination\"]},\n",
    "    }\n",
    ")\n"
   ]
  },
  {
   "cell_type": "markdown",
   "id": "d64d3dfe-2c00-4943-80a5-d2dc86663b5e",
   "metadata": {},
   "source": [
    "### Create a Solver\n",
    "\n",
    "Calibrate the curve to the input instruments using a Solver."
   ]
  },
  {
   "cell_type": "code",
   "execution_count": null,
   "id": "1b8c010f-009c-4b20-906f-042820390093",
   "metadata": {},
   "outputs": [],
   "source": [
    "instruments = [\n",
    "    rl.IRS(termination=term.to_pydatetime(), \n",
    "        effective=effective_date,\n",
    "        spec=\"usd_irs\",\n",
    "        curves=\"sofr_curve\"\n",
    "       ) for term in data[\"Termination\"]\n",
    "]\n",
    "\n",
    "solver = rl.Solver(\n",
    "    curves=[sofr_curve],\n",
    "    instruments=instruments,\n",
    "    s=data[\"Rate\"],\n",
    "    instrument_labels=data[\"Term\"],\n",
    "    id=\"us_rates\",\n",
    ")"
   ]
  },
  {
   "cell_type": "markdown",
   "id": "b06dc8ec-793e-42d6-a919-f57f92ef61a6",
   "metadata": {},
   "source": [
    "### Curve results\n",
    "\n",
    "Can now read the discount factors from the calibrated curve."
   ]
  },
  {
   "cell_type": "code",
   "execution_count": null,
   "id": "580bcf24-378c-4d90-be17-d6e6f37efc8f",
   "metadata": {},
   "outputs": [],
   "source": [
    "data[\"DF\"] = [float(sofr_curve[term]) for term in data[\"Termination\"]]\n",
    "data"
   ]
  },
  {
   "cell_type": "markdown",
   "id": "ecaa0445-9211-4810-94e1-2123ad914064",
   "metadata": {},
   "source": [
    "### Pricing an Instrument\n",
    "\n",
    "Create an Interest Rate Swap to price."
   ]
  },
  {
   "cell_type": "code",
   "execution_count": null,
   "id": "7fdde96a-2e65-4423-b7fa-fb79199706f4",
   "metadata": {},
   "outputs": [],
   "source": [
    "irs = rl.IRS(\n",
    "    effective=dt(2023, 11, 21),\n",
    "    termination=dt(2025, 2, 21),\n",
    "    notional=-100e6,\n",
    "    fixed_rate=5.40,\n",
    "    curves=\"sofr_curve\",\n",
    "    spec=\"usd_irs\",\n",
    ")\n"
   ]
  },
  {
   "cell_type": "markdown",
   "id": "c9fb1e26-5b7d-4111-811e-461d03ad1888",
   "metadata": {},
   "source": [
    "Then use the solver to price it."
   ]
  },
  {
   "cell_type": "code",
   "execution_count": null,
   "id": "c428f696-0a6a-4a2a-9646-67484608430c",
   "metadata": {},
   "outputs": [],
   "source": [
    "irs.npv(solver=solver).real\n"
   ]
  },
  {
   "cell_type": "markdown",
   "id": "ae18df01-a8db-4183-9940-a24b2fa558d8",
   "metadata": {},
   "source": [
    "### Delta\n",
    "\n",
    "The solver can be used to get delta senstivites,"
   ]
  },
  {
   "cell_type": "code",
   "execution_count": null,
   "id": "9a6091c0-ea89-4170-b66b-37d2a0b0a586",
   "metadata": {},
   "outputs": [],
   "source": [
    "delta = irs.delta(solver=solver)\n",
    "delta"
   ]
  },
  {
   "cell_type": "markdown",
   "id": "8f6e7b43-bdd1-4918-968e-f126306f3ffe",
   "metadata": {},
   "source": [
    "Show the strip delta graphically."
   ]
  },
  {
   "cell_type": "code",
   "execution_count": null,
   "id": "ef0d5e2b-3a47-4210-b210-a60f7c0156ea",
   "metadata": {},
   "outputs": [],
   "source": [
    "ccy_delta = delta[\"usd\"][\"usd\"]\n",
    "pd.Series(ccy_delta.values,\n",
    "          ccy_delta.index.get_level_values(\"label\")).plot.bar();"
   ]
  },
  {
   "cell_type": "code",
   "execution_count": null,
   "id": "40de5a80-d560-4531-81d1-71bb50f85512",
   "metadata": {},
   "outputs": [],
   "source": [
    "float(ccy_delta.sum())\n"
   ]
  },
  {
   "cell_type": "code",
   "execution_count": null,
   "id": "56dd1200-b576-4c0d-9ddc-cf509093c056",
   "metadata": {},
   "outputs": [],
   "source": [
    "irs.analytic_delta(curve=sofr_curve).real\n"
   ]
  },
  {
   "cell_type": "markdown",
   "id": "3f1cb833-1040-4989-b857-374eaa5bb58c",
   "metadata": {},
   "source": [
    "### Gamma\n",
    "\n",
    "The solver can also be used to get cross-gamma sensitivities."
   ]
  },
  {
   "cell_type": "code",
   "execution_count": null,
   "id": "2b95e9a6-5f54-4abe-9e3e-a63d36e81f75",
   "metadata": {},
   "outputs": [],
   "source": [
    "irs.gamma(solver=solver).sum().sum()\n"
   ]
  },
  {
   "cell_type": "markdown",
   "id": "273d7003-2599-455a-84cc-1febc307dbd1",
   "metadata": {},
   "source": [
    "### Cashflows\n",
    "\n",
    "Show a summary of cashflows to be paid, or get a more detailed breakdown of cashflow information."
   ]
  },
  {
   "cell_type": "code",
   "execution_count": null,
   "id": "a551b198-4e15-4c84-abbc-14da068963c7",
   "metadata": {},
   "outputs": [],
   "source": [
    "irs.cashflows_table(solver=solver)\n"
   ]
  },
  {
   "cell_type": "code",
   "execution_count": null,
   "id": "7bc73206-3323-4323-b633-7e66150c38cc",
   "metadata": {},
   "outputs": [],
   "source": [
    "irs.cashflows(solver=solver)\n"
   ]
  }
 ],
 "metadata": {
  "kernelspec": {
   "display_name": "Python 3 (ipykernel)",
   "language": "python",
   "name": "python3"
  },
  "language_info": {
   "codemirror_mode": {
    "name": "ipython",
    "version": 3
   },
   "file_extension": ".py",
   "mimetype": "text/x-python",
   "name": "python",
   "nbconvert_exporter": "python",
   "pygments_lexer": "ipython3",
   "version": "3.12.7"
  }
 },
 "nbformat": 4,
 "nbformat_minor": 5
}
